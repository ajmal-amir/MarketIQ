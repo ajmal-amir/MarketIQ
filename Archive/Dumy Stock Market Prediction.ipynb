{
 "cells": [
  {
   "cell_type": "markdown",
   "metadata": {},
   "source": [
    "# Stock Market Prediciton Models\n",
    "\n"
   ]
  },
  {
   "cell_type": "markdown",
   "metadata": {},
   "source": [
    "## Write Your Name Here: Ajmal Amir"
   ]
  },
  {
   "cell_type": "markdown",
   "metadata": {},
   "source": [
    "# <font color=\"blue\"> The Code start from here</font>\n",
    "\n"
   ]
  },
  {
   "cell_type": "code",
   "execution_count": null,
   "metadata": {},
   "outputs": [],
   "source": [
    "import numpy as np\n",
    "from scipy.sparse import coo_matrix\n",
    "from numpy.random import randn, randint\n",
    "from numpy.linalg import norm\n",
    "import matplotlib.pyplot as plt\n",
    "import pandas as pd\n",
    "\n",
    "from sklearn.preprocessing import MinMaxScaler\n",
    "from tensorflow.keras.models import Sequential\n",
    "from tensorflow.keras.layers import LSTM, Dense\n",
    "\n",
    "import torch\n",
    "\n",
    "# import utils\n",
    "\n",
    "np.random.seed(1)\n",
    "from sklearn.linear_model import LinearRegression\n",
    "from sklearn.neighbors import KNeighborsRegressor"
   ]
  },
  {
   "cell_type": "markdown",
   "metadata": {},
   "source": [
    "## Predictive Model for Stock Market Investments:\n",
    "\n",
    "1. we need allow the tick to be as user input\n",
    "2. the date range should also be as input\n",
    "3. the predition durration should alos be as user input. "
   ]
  },
  {
   "cell_type": "code",
   "execution_count": null,
   "metadata": {},
   "outputs": [],
   "source": [
    "import yfinance as yf\n",
    "\n",
    "# Fetch historical data\n",
    "stock_data = yf.download(\"AAPL\", start=\"2015-01-01\", end=\"2025-05-15\")\n",
    "stock_data = stock_data[['Close']]  # Focus on 'Close' prices\n",
    "stock_data.dropna(inplace=True)  # Remove missing values\n",
    "\n",
    "print(stock_data.head())\n"
   ]
  },
  {
   "cell_type": "code",
   "execution_count": null,
   "metadata": {},
   "outputs": [],
   "source": [
    "from statsmodels.tsa.arima.model import ARIMA\n",
    "\n",
    "# Fit ARIMA model \n",
    "model = ARIMA(stock_data['Close'], order=(5,1,0)) # Adjust ) (p,d,q)\n",
    "arima_result = model.fit()\n",
    "\n",
    "\n",
    "# forcast \n",
    "forecast = arima_result.forecast(steps=30)  #predict next 30 days\n",
    "print(forecast)"
   ]
  },
  {
   "cell_type": "code",
   "execution_count": null,
   "metadata": {},
   "outputs": [],
   "source": [
    "# Scale data\n",
    "\n",
    "scaler = MinMaxScaler()\n",
    "scaled_data = scaler.fit_transform(stock_data)\n",
    "\n",
    "#Creating sequences\n",
    "\n",
    "sequence_length = 60 # Using 60 days of data to predict the next day\n",
    "\n",
    "X, y = [], []\n",
    "\n",
    "for i in range(sequence_length, len(scaled_data)):\n",
    "    X.append(scaled_data[i-squence_length:i])\n",
    "    y.append(scaled_data[i,0])\n",
    "X, y = np.array(X), np.array(y)\n",
    "\n",
    "# Define LSTM model\n",
    "\n",
    "model = Squential([\n",
    "    LSTM(50, return_squences=True, input_shape=(X.shape[1], X.shape[2])), \n",
    "    LSTM(50, return_squences=False),\n",
    "    Dense(25),\n",
    "    Dense(1)\n",
    "])\n",
    "\n",
    "\n",
    "# Comile and train\n",
    "\n",
    "model.compile(optimizer='adam', loss='mean_squared_error')\n",
    "model.fit(X, y, epochs=10, batch_size=32)\n",
    "\n",
    "# Predict\n",
    "predictions = model.predict(X)"
   ]
  },
  {
   "cell_type": "code",
   "execution_count": null,
   "metadata": {},
   "outputs": [],
   "source": [
    "import matplotlib.pyplot as plt\n",
    "\n",
    "# Plot results\n",
    "plt.plot(scaler.inverse_transform(predictions), label='Predicted')\n",
    "plt.plot(scaler.inverse_transform(y.reshape(-1, 1)), label='Actual')\n",
    "plt.legend()\n",
    "plt.show()\n"
   ]
  },
  {
   "cell_type": "code",
   "execution_count": 31,
   "metadata": {},
   "outputs": [
    {
     "name": "stdout",
     "output_type": "stream",
     "text": [
      "Welcome to Python Pizza Deliveries!\n"
     ]
    },
    {
     "name": "stdin",
     "output_type": "stream",
     "text": [
      "What size pizza do you want? S, M, or L:  L\n",
      "Do you want pepperoni on your pizza? Y or N:  Y\n",
      "Do you want extra cheese? Y or N:  N\n"
     ]
    },
    {
     "name": "stdout",
     "output_type": "stream",
     "text": [
      "Please enter the correct $28\n"
     ]
    }
   ],
   "source": [
    "print(\"Welcome to Python Pizza Deliveries!\")\n",
    "\n",
    "# Get user inputs\n",
    "size = input(\"What size pizza do you want? S, M, or L: \").upper()\n",
    "pepperoni = input(\"Do you want pepperoni on your pizza? Y or N: \").upper()\n",
    "extra_cheese = input(\"Do you want extra cheese? Y or N: \").upper()\n",
    "\n",
    "prices = {'S': 15, 'M': 20, 'L': 25}\n",
    "pepperoni_cost = {'S': 2, 'M': 3, 'L': 3}\n",
    "\n",
    "if size in prices:\n",
    "    price = prices[size]\n",
    "\n",
    "    if pepperoni == 'Y':\n",
    "        price += pepperoni_cost[size]\n",
    "    if extra_cheese == 'Y':\n",
    "        price += 1\n",
    "        \n",
    "    print(f\"Please enter the correct ${price}\")\n",
    "else:\n",
    "    print(\"Invalid size selected. Please choose S, M, or L.\")"
   ]
  },
  {
   "cell_type": "code",
   "execution_count": null,
   "metadata": {},
   "outputs": [],
   "source": []
  }
 ],
 "metadata": {
  "kernelspec": {
   "display_name": "Python 3 (ipykernel)",
   "language": "python",
   "name": "python3"
  },
  "language_info": {
   "codemirror_mode": {
    "name": "ipython",
    "version": 3
   },
   "file_extension": ".py",
   "mimetype": "text/x-python",
   "name": "python",
   "nbconvert_exporter": "python",
   "pygments_lexer": "ipython3",
   "version": "3.12.4"
  }
 },
 "nbformat": 4,
 "nbformat_minor": 4
}
